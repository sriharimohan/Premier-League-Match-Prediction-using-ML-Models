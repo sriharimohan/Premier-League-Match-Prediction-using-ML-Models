{
  "nbformat": 4,
  "nbformat_minor": 0,
  "metadata": {
    "colab": {
      "provenance": [],
      "mount_file_id": "1mQyjmbMucbfI4hijYxq2BZTKPFpCM90l",
      "authorship_tag": "ABX9TyNTRcu4/QYxD32JUkC11Wr/",
      "include_colab_link": true
    },
    "kernelspec": {
      "name": "python3",
      "display_name": "Python 3"
    },
    "language_info": {
      "name": "python"
    }
  },
  "cells": [
    {
      "cell_type": "markdown",
      "metadata": {
        "id": "view-in-github",
        "colab_type": "text"
      },
      "source": [
        "<a href=\"https://colab.research.google.com/github/sriharimohan/Premier-League-Match-Prediction-using-ML-Models/blob/main/Project_Main.ipynb\" target=\"_parent\"><img src=\"https://colab.research.google.com/assets/colab-badge.svg\" alt=\"Open In Colab\"/></a>"
      ]
    },
    {
      "cell_type": "code",
      "source": [
        "from google.colab import drive\n",
        "drive.mount('/content/drive')"
      ],
      "metadata": {
        "colab": {
          "base_uri": "https://localhost:8080/"
        },
        "id": "OduzZuJyWIl7",
        "outputId": "70383887-aaa5-4b4d-f270-7e717b7986f8"
      },
      "execution_count": 4,
      "outputs": [
        {
          "output_type": "stream",
          "name": "stdout",
          "text": [
            "Drive already mounted at /content/drive; to attempt to forcibly remount, call drive.mount(\"/content/drive\", force_remount=True).\n"
          ]
        }
      ]
    },
    {
      "cell_type": "code",
      "source": [
        "# Importing Liraries\n",
        "import pandas as pd\n",
        "import numpy as np\n",
        "import seaborn as sns\n",
        "import matplotlib.pyplot as plt\n",
        "\n",
        "from sklearn.model_selection import train_test_split, GridSearchCV\n",
        "from sklearn.preprocessing import StandardScaler\n",
        "from sklearn.linear_model import LogisticRegression\n",
        "from sklearn.ensemble import RandomForestClassifier\n",
        "from xgboost import XGBClassifier\n",
        "from sklearn.metrics import accuracy_score, confusion_matrix, classification_report\n",
        "import shap\n",
        "\n",
        "# Loading Dataset\n",
        "\n",
        "try:\n",
        "    df = pd.read_csv('/England.csv')\n",
        "    print(\"--- 1. Data Loaded Successfully ---\")\n",
        "    print(f\"Total matches loaded: {len(df)}\")\n",
        "except FileNotFoundError:\n",
        "    print(\"Error: 'England CSV.csv' not found. Make sure it's in the same folder as your code.\")\n",
        "    # Exit or raise error if file not found"
      ],
      "metadata": {
        "colab": {
          "base_uri": "https://localhost:8080/"
        },
        "id": "r1189mtpWxKJ",
        "outputId": "132eb8c2-ae60-4f3b-c558-25a93e717520"
      },
      "execution_count": 13,
      "outputs": [
        {
          "output_type": "stream",
          "name": "stdout",
          "text": [
            "--- 1. Data Loaded Successfully ---\n",
            "Total matches loaded: 12153\n"
          ]
        }
      ]
    },
    {
      "cell_type": "code",
      "source": [
        "df.info()"
      ],
      "metadata": {
        "colab": {
          "base_uri": "https://localhost:8080/"
        },
        "id": "GSb-tC5kYPzX",
        "outputId": "72bb5c8f-7f3d-4ba6-8bd0-21157dc6d623"
      },
      "execution_count": 14,
      "outputs": [
        {
          "output_type": "stream",
          "name": "stdout",
          "text": [
            "<class 'pandas.core.frame.DataFrame'>\n",
            "RangeIndex: 12153 entries, 0 to 12152\n",
            "Data columns (total 25 columns):\n",
            " #   Column         Non-Null Count  Dtype  \n",
            "---  ------         --------------  -----  \n",
            " 0   Date           12153 non-null  object \n",
            " 1   Season         12153 non-null  object \n",
            " 2   HomeTeam       12153 non-null  object \n",
            " 3   AwayTeam       12153 non-null  object \n",
            " 4   FTH Goals      12153 non-null  int64  \n",
            " 5   FTA Goals      12153 non-null  int64  \n",
            " 6   FT Result      12153 non-null  object \n",
            " 7   HTH Goals      11229 non-null  float64\n",
            " 8   HTA Goals      11229 non-null  float64\n",
            " 9   HT Result      11229 non-null  object \n",
            " 10  Referee        9329 non-null   object \n",
            " 11  H Shots        9329 non-null   float64\n",
            " 12  A Shots        9329 non-null   float64\n",
            " 13  H SOT          9329 non-null   float64\n",
            " 14  A SOT          9329 non-null   float64\n",
            " 15  H Fouls        9329 non-null   float64\n",
            " 16  A Fouls        9329 non-null   float64\n",
            " 17  H Corners      9329 non-null   float64\n",
            " 18  A Corners      9329 non-null   float64\n",
            " 19  H Yellow       9329 non-null   float64\n",
            " 20  A Yellow       9329 non-null   float64\n",
            " 21  H Red          9329 non-null   float64\n",
            " 22  A Red          9329 non-null   float64\n",
            " 23  Display_Order  12153 non-null  int64  \n",
            " 24  League         12153 non-null  object \n",
            "dtypes: float64(14), int64(3), object(8)\n",
            "memory usage: 2.3+ MB\n"
          ]
        }
      ]
    },
    {
      "cell_type": "code",
      "source": [],
      "metadata": {
        "id": "JU9703bySUTT"
      },
      "execution_count": null,
      "outputs": []
    }
  ]
}